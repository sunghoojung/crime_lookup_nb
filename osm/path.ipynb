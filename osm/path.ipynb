{
 "cells": [
  {
   "cell_type": "code",
   "execution_count": 8,
   "id": "13a753aa",
   "metadata": {},
   "outputs": [
    {
     "name": "stdout",
     "output_type": "stream",
     "text": [
      "Requirement already satisfied: pandas in c:\\users\\yimin\\appdata\\local\\packages\\pythonsoftwarefoundation.python.3.10_qbz5n2kfra8p0\\localcache\\local-packages\\python310\\site-packages (2.3.3)\n",
      "Requirement already satisfied: geopandas in c:\\users\\yimin\\appdata\\local\\packages\\pythonsoftwarefoundation.python.3.10_qbz5n2kfra8p0\\localcache\\local-packages\\python310\\site-packages (1.1.1)\n",
      "Requirement already satisfied: networkx in c:\\users\\yimin\\appdata\\local\\packages\\pythonsoftwarefoundation.python.3.10_qbz5n2kfra8p0\\localcache\\local-packages\\python310\\site-packages (3.4.2)\n",
      "Requirement already satisfied: shapely in c:\\users\\yimin\\appdata\\local\\packages\\pythonsoftwarefoundation.python.3.10_qbz5n2kfra8p0\\localcache\\local-packages\\python310\\site-packages (2.1.2)\n",
      "Requirement already satisfied: matplotlib in c:\\users\\yimin\\appdata\\local\\packages\\pythonsoftwarefoundation.python.3.10_qbz5n2kfra8p0\\localcache\\local-packages\\python310\\site-packages (3.9.2)\n",
      "Requirement already satisfied: python-dateutil>=2.8.2 in c:\\users\\yimin\\appdata\\local\\packages\\pythonsoftwarefoundation.python.3.10_qbz5n2kfra8p0\\localcache\\local-packages\\python310\\site-packages (from pandas) (2.8.2)\n",
      "Requirement already satisfied: pytz>=2020.1 in c:\\users\\yimin\\appdata\\local\\packages\\pythonsoftwarefoundation.python.3.10_qbz5n2kfra8p0\\localcache\\local-packages\\python310\\site-packages (from pandas) (2025.2)\n",
      "Requirement already satisfied: tzdata>=2022.7 in c:\\users\\yimin\\appdata\\local\\packages\\pythonsoftwarefoundation.python.3.10_qbz5n2kfra8p0\\localcache\\local-packages\\python310\\site-packages (from pandas) (2025.2)\n",
      "Requirement already satisfied: numpy>=1.22.4 in c:\\users\\yimin\\appdata\\local\\packages\\pythonsoftwarefoundation.python.3.10_qbz5n2kfra8p0\\localcache\\local-packages\\python310\\site-packages (from pandas) (1.24.1)\n",
      "Requirement already satisfied: packaging in c:\\users\\yimin\\appdata\\local\\packages\\pythonsoftwarefoundation.python.3.10_qbz5n2kfra8p0\\localcache\\local-packages\\python310\\site-packages (from geopandas) (23.2)\n",
      "Requirement already satisfied: pyproj>=3.5.0 in c:\\users\\yimin\\appdata\\local\\packages\\pythonsoftwarefoundation.python.3.10_qbz5n2kfra8p0\\localcache\\local-packages\\python310\\site-packages (from geopandas) (3.7.1)\n",
      "Requirement already satisfied: pyogrio>=0.7.2 in c:\\users\\yimin\\appdata\\local\\packages\\pythonsoftwarefoundation.python.3.10_qbz5n2kfra8p0\\localcache\\local-packages\\python310\\site-packages (from geopandas) (0.11.1)\n",
      "Requirement already satisfied: fonttools>=4.22.0 in c:\\users\\yimin\\appdata\\local\\packages\\pythonsoftwarefoundation.python.3.10_qbz5n2kfra8p0\\localcache\\local-packages\\python310\\site-packages (from matplotlib) (4.53.1)\n",
      "Requirement already satisfied: pyparsing>=2.3.1 in c:\\users\\yimin\\appdata\\local\\packages\\pythonsoftwarefoundation.python.3.10_qbz5n2kfra8p0\\localcache\\local-packages\\python310\\site-packages (from matplotlib) (3.1.4)\n",
      "Requirement already satisfied: kiwisolver>=1.3.1 in c:\\users\\yimin\\appdata\\local\\packages\\pythonsoftwarefoundation.python.3.10_qbz5n2kfra8p0\\localcache\\local-packages\\python310\\site-packages (from matplotlib) (1.4.7)\n",
      "Requirement already satisfied: contourpy>=1.0.1 in c:\\users\\yimin\\appdata\\local\\packages\\pythonsoftwarefoundation.python.3.10_qbz5n2kfra8p0\\localcache\\local-packages\\python310\\site-packages (from matplotlib) (1.3.0)\n",
      "Requirement already satisfied: pillow>=8 in c:\\users\\yimin\\appdata\\local\\packages\\pythonsoftwarefoundation.python.3.10_qbz5n2kfra8p0\\localcache\\local-packages\\python310\\site-packages (from matplotlib) (9.4.0)\n",
      "Requirement already satisfied: cycler>=0.10 in c:\\users\\yimin\\appdata\\local\\packages\\pythonsoftwarefoundation.python.3.10_qbz5n2kfra8p0\\localcache\\local-packages\\python310\\site-packages (from matplotlib) (0.12.1)\n",
      "Requirement already satisfied: certifi in c:\\users\\yimin\\appdata\\local\\packages\\pythonsoftwarefoundation.python.3.10_qbz5n2kfra8p0\\localcache\\local-packages\\python310\\site-packages (from pyogrio>=0.7.2->geopandas) (2025.8.3)\n",
      "Requirement already satisfied: six>=1.5 in c:\\users\\yimin\\appdata\\local\\packages\\pythonsoftwarefoundation.python.3.10_qbz5n2kfra8p0\\localcache\\local-packages\\python310\\site-packages (from python-dateutil>=2.8.2->pandas) (1.16.0)\n"
     ]
    },
    {
     "name": "stderr",
     "output_type": "stream",
     "text": [
      "\n",
      "[notice] A new release of pip is available: 23.0.1 -> 25.2\n",
      "[notice] To update, run: C:\\Users\\yimin\\AppData\\Local\\Microsoft\\WindowsApps\\PythonSoftwareFoundation.Python.3.10_qbz5n2kfra8p0\\python.exe -m pip install --upgrade pip\n"
     ]
    }
   ],
   "source": [
    "!pip install pandas geopandas networkx shapely matplotlib"
   ]
  },
  {
   "cell_type": "code",
   "execution_count": 10,
   "id": "5c7f3ffe",
   "metadata": {},
   "outputs": [
    {
     "name": "stdout",
     "output_type": "stream",
     "text": [
      "✅ Graph built with 793 nodes and 1174 edges\n",
      "\n",
      "Start node: (-74.4511747, 40.4894213)\n",
      "End node:   (-74.4443072, 40.4967595)\n",
      "\n",
      "✅ Shortest path found! Weighted distance: 1208.99 meters\n",
      "Total nodes in path: 13\n",
      "📄 Saved 13 coordinates to: shortest_path.json\n"
     ]
    }
   ],
   "source": [
    "# shortest_path_coords_json.py\n",
    "\n",
    "import pandas as pd\n",
    "import networkx as nx\n",
    "from shapely import wkt\n",
    "import json\n",
    "\n",
    "# -------------------------------\n",
    "# 1. Load weighted road edges\n",
    "# -------------------------------\n",
    "edges_path = \"newbrunswick_edges_weighted.csv\"\n",
    "\n",
    "df = pd.read_csv(edges_path)\n",
    "df[\"geometry\"] = df[\"geometry\"].apply(wkt.loads)\n",
    "\n",
    "# Extract start & end coordinates for graph edges\n",
    "df[\"start\"] = df[\"geometry\"].apply(lambda x: (x.coords[0][0], x.coords[0][1]))\n",
    "df[\"end\"]   = df[\"geometry\"].apply(lambda x: (x.coords[-1][0], x.coords[-1][1]))\n",
    "\n",
    "# -------------------------------\n",
    "# 2. Build weighted graph\n",
    "# -------------------------------\n",
    "G = nx.Graph()\n",
    "for _, row in df.iterrows():\n",
    "    u, v = row[\"start\"], row[\"end\"]\n",
    "    G.add_edge(u, v, weight=row[\"length\"])\n",
    "\n",
    "print(f\"✅ Graph built with {G.number_of_nodes()} nodes and {G.number_of_edges()} edges\")\n",
    "\n",
    "# -------------------------------\n",
    "# 3. Helper: nearest node\n",
    "# -------------------------------\n",
    "def nearest_node(G, point):\n",
    "    return min(G.nodes, key=lambda n: (n[0] - point[0]) ** 2 + (n[1] - point[1]) ** 2)\n",
    "\n",
    "# Example start/end coordinates (longitude, latitude)\n",
    "start_point = (-74.4517, 40.4898)  # near Joyce Kilmer Ave\n",
    "end_point   = (-74.4442, 40.4968)  # near Albany Street\n",
    "\n",
    "start_node = nearest_node(G, start_point)\n",
    "end_node   = nearest_node(G, end_point)\n",
    "\n",
    "print(f\"\\nStart node: {start_node}\")\n",
    "print(f\"End node:   {end_node}\")\n",
    "\n",
    "# -------------------------------\n",
    "# 4. Compute shortest path\n",
    "# -------------------------------\n",
    "try:\n",
    "    path_nodes = nx.shortest_path(G, source=start_node, target=end_node, weight=\"weight\")\n",
    "    path_length = nx.shortest_path_length(G, source=start_node, target=end_node, weight=\"weight\")\n",
    "\n",
    "    print(f\"\\n✅ Shortest path found! Weighted distance: {path_length:.2f} meters\")\n",
    "    print(f\"Total nodes in path: {len(path_nodes)}\")\n",
    "\n",
    "    # Convert to list of dicts or tuples\n",
    "    coords_list = [{\"lon\": lon, \"lat\": lat} for lon, lat in path_nodes]\n",
    "\n",
    "    # -------------------------------\n",
    "    # 5. Save to JSON\n",
    "    # -------------------------------\n",
    "    json_out = \"shortest_path.json\"\n",
    "    with open(json_out, \"w\") as f:\n",
    "        json.dump(coords_list, f, indent=4)\n",
    "\n",
    "    print(f\"📄 Saved {len(coords_list)} coordinates to: {json_out}\")\n",
    "\n",
    "except nx.NetworkXNoPath:\n",
    "    print(\"❌ No path found between the given points.\")\n"
   ]
  },
  {
   "cell_type": "code",
   "execution_count": null,
   "id": "69bcfbc1",
   "metadata": {},
   "outputs": [],
   "source": []
  },
  {
   "cell_type": "markdown",
   "id": "8162b0cc",
   "metadata": {},
   "source": []
  }
 ],
 "metadata": {
  "kernelspec": {
   "display_name": "Python 3",
   "language": "python",
   "name": "python3"
  },
  "language_info": {
   "codemirror_mode": {
    "name": "ipython",
    "version": 3
   },
   "file_extension": ".py",
   "mimetype": "text/x-python",
   "name": "python",
   "nbconvert_exporter": "python",
   "pygments_lexer": "ipython3",
   "version": "3.10.11"
  }
 },
 "nbformat": 4,
 "nbformat_minor": 5
}
